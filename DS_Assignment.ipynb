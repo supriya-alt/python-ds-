{
  "nbformat": 4,
  "nbformat_minor": 0,
  "metadata": {
    "colab": {
      "provenance": []
    },
    "kernelspec": {
      "name": "python3",
      "display_name": "Python 3"
    },
    "language_info": {
      "name": "python"
    }
  },
  "cells": [
    {
      "cell_type": "markdown",
      "source": [
        "#Data Type and structures"
      ],
      "metadata": {
        "id": "7Tpd_bqDm2HX"
      }
    },
    {
      "cell_type": "markdown",
      "source": [
        "1. What are data structures, and why are they important?\n",
        "\n",
        "    -> A data structure is a way of organizing, and managing data so it can be used efficiently.\n",
        "\n",
        "           why they are important:\n",
        "           1.Efficiency  --> the righth data structure speed upnoperation(searching, inserting, deleting)\n",
        "           2.Better problem-solving--> many algorithm are based on specific data structures.\n",
        "\n",
        "           3.scalabiliti --> help programs handel large amount of data without slowing down.\n",
        "           4.clean code  -->> organizes data logically, making code easier to read and maintain.\n",
        "\n",
        "\n",
        "2. Explain the difference between mutable and immutable data types with examples.\n",
        "\n",
        "    -> a. Mutable data types\n",
        "           \n",
        "           .. Meaning  -> can be changed/modified after creation.\n",
        "           .. we can add, remove, or update element without creating a new object.\n",
        "           .. Example in python  -> list, dict, set,\n",
        "\n",
        "        b. Immutable  data types\n",
        "\n",
        "          .. Meaning -> cannot be changed after creation.\n",
        "          ..if we try to modify, python creats a new object in memory.\n",
        "          ..Example in python : int, float, str, tuple\n",
        "\n",
        "\n",
        "3. What are the main differences between list and tuples in Python?\n",
        "\n",
        "    -> List\n",
        "         .. Mutable    -> can change after creation (add,remove,update elements)\n",
        "         .. Syntax      ->  [] square brackets.  \n",
        "         .. performance -> slightly slower because its changeable.\n",
        "         .. use case    -> when we need a collection that  will  change over   time.\n",
        "                  \n",
        "                  example:\n",
        "                         my_list = [1,3,4]\n",
        "                         my_list[0] = 12\n",
        "                         print(my_list)   # output: [12,3,4]\n",
        "\n",
        "      -> tuple\n",
        "\n",
        "           .. Immutable -> cannot change after creation.\n",
        "           .. Syntax    -> () parentheses.\n",
        "           .. Usecase   -> when you need a colllecion that should not change                \n",
        "\n",
        "                      example:\n",
        "                           my_tuple = (1,2,3)\n",
        "                           my_tuple[0] = 10\n",
        "                           print (my_tuple) #this will cause an error\n",
        "\n",
        "4. Describe how dictionaries store data.\n",
        "\n",
        "    -> A dictionary in programing(like in python) stores data as key_value pairs.\n",
        "\n",
        "           How it work inside(simple view)\n",
        "           . The dictionary uses a system called a hash table.\n",
        "           . Each key is converted into a special number(hash).\n",
        "           . The number decides where the value is stored in memory.\n",
        "           . This makes finding value very fast-almost instant.\n",
        "           \n",
        "5.   Why might you use a set insted of a list in python?\n",
        "\n",
        "    -> A set and a list in python are both used to store multiple items, but they have different strengths.\n",
        "\n",
        "             a. No duplicates allowed  -> A sets automatically removes duplicates.\n",
        "                    number =[1,2,2,3]\n",
        "                    print(set(numbers))    # output>> {1,2,3}\n",
        "             b. Very fast lookups(checking membership)  -> sets uses hashing(like dictionaries), this makes in check much faster than with list, especially for large data.\n",
        "\n",
        "             c. set are great for union, intersection, difference, etc.\n",
        "                 *we use sets when we want unique items and fast checking.\n",
        "                 *use a list when you need order or duplicates.\n",
        "\n",
        "6. What is string in python,and how is it difference from a list?\n",
        "\n",
        "    ->A string is a sequence of characters(letters, numbers, symbols, space).its written inside quotes:\n",
        "            text = \"Hello\"\n",
        "         Both string and list are sequences,but they have differences:\n",
        "\n",
        "    \n",
        "      .Feature                string                      list\n",
        "\n",
        "      .what it store         characters only             any type of items\n",
        "\n",
        "                         (letters, digits, symbols)    (number,otherlist)\n",
        "\n",
        "\n",
        "      . Example            \"apple\"                      [1,\"apple\",5.6]\n",
        "\n",
        "      . Mutable            string are immutable         list are mutable\n",
        "\n",
        "      . Changing elements      Not allowed              allowed\n",
        "\n",
        "7. How do tuples ensure data integrity in python?\n",
        "\n",
        "  -> Data integrity means making sure data stays safe unchanged. Tuples help in these ways:\n",
        "\n",
        "    a. immutability -> once a tuple is created, its contents are fixed.\n",
        "    b. cab be used in dictionary keys.\n",
        "    c. Reliable in multi-user programs -> in situations wher many parts of      a programs share data,using tuples ensures nobody accidentally modifies it.\n",
        "\n",
        "8. what is hash table, and how does it relate to dictionaries in python?\n",
        "\n",
        "   -> A hash table is a way of storing information so you can find it very quickly.\n",
        "\n",
        "          exam-le in real life:\n",
        "          imagine you have 100 frinds phone numbers.\n",
        "           . if you keep them in a plain list, you'd have to search one by one->slow\n",
        "           . with a hash table,you can jump straight to the right place using the friends name-> fast\n",
        "\n",
        "         Python dictionary(dict)is just a hash table with some extra features.\n",
        "           . key        -> like names\n",
        "           . values     -> like phone numbers\n",
        "           . fast lookup-> you don't need to search one by one, python jumps straight to the right drawer.   \n",
        "\n",
        "9. can list contain different data types in python?\n",
        "\n",
        "      -> In python, a list can contain different data type all mixed together.\n",
        "        that's because python lists are very flexible- thy can hold:\n",
        "                 . Numbers(int, float)\n",
        "                 . strings\n",
        "                 . Booleans\n",
        "                 . Even other lists, dictionaries, or custom objects\n",
        "                             example:\n",
        "                             my_list = [12, \"hello\", 5.6, True]\n",
        "                             print (my_list)\n",
        "                                           #[12, \"hello\", 5.6, True]   \n",
        "\n",
        "10. Explain why string are immutable in python.\n",
        "\n",
        "   -> String are immutable in python because of it's:\n",
        "         a. efficiency(performence & memory sharing)\n",
        "              . in python many programs reuse the same string(like\"yes\", \"no\", \"ok\")\n",
        "              . Because string don't change, python can store only one copy in memory and sare it.\n",
        "              .This makes programs faster and saves memory.\n",
        "\n",
        "            b. hashing (important for dictionaries ans sets)\n",
        "                  . string are often dictionaries (which use hash table).\n",
        "                  . key must not change otherwise the dictionary would\"lose\" where the key is stored.\n",
        "                  . immutablility guarantees that the hash value of a string never changes.   \n",
        "             c. safe (no unexpected changes).\n",
        "\n",
        "11. What advantages do dictionaries offer over list for certain task?\n",
        "\n",
        "        -> Advantages of dictionary over list\n",
        "\n",
        "             a. Fast lookups by key\n",
        "               . if you a know person name, you can instantly get their phone number.\n",
        "               . with a list,you'd need to sacn all entries until you find the match.\n",
        "             b. Batter organization\n",
        "                 . keys make the data more meaningful (e.g, \"Alice\" -> \"123-456\" is easier to understand than remembering list[0].\n",
        "              c. no need to remember index number\n",
        "                  . you don't have to worry about position changing.\n",
        "                  . example-> if you remove something in a list, all the index shift. in a dictionary the key stays the same.\n",
        "              d. uniqueness of keys\n",
        "                   . prevents accidental duplicates -> each key can only appear once.\n",
        "\n",
        "12. Describe a scenario where using a tuple would be preferable over a list.\n",
        "\n",
        "        ->  A tupple is preferable over a list when you want to store a fixed collection of items that should not changed throughout the program.\n",
        "               \n",
        "                 Example scenario:\n",
        "              If you are building a calender or scheduling system, you might want to store the names of the day.\n",
        "\n",
        "                 why use a tuple here?\n",
        "                 a. Fixed data -> The days of the week never change, so immutability is ideal.\n",
        "                 b. Efficiency -> Tuples are faster and more memory efficient for constant sequences.    \n",
        "\n",
        "13. How do sets handle duplicate value in python?\n",
        "\n",
        "      -> Sets handle duplicates value by:\n",
        "           a. Implemented using a hash table\n",
        "              . each value is run through a hash function, which decides where to place it in memory.\n",
        "           b. uniqueness is automatic:\n",
        "              . when you add a value, python chacks it hash.\n",
        "              . if the value is already there, it won't be added again.\n",
        "                               s= {1,2}\n",
        "                               s.add(2)  # duplicates\n",
        "                               print(s)          #{1,2}   >> no change\n",
        "           c. Mutable container, immutable elements\n",
        "                . you can add  or remeve items from a set\n",
        "                . but items inside a set must be immutable (string,tuple, number)\n",
        "\n",
        "\n",
        "14. How does the \"n\" keyword work differently for list and dictionaries?\n",
        "\n",
        "      -> \"in\" with list\n",
        "         . checking is a value is present anywhere in the list.\n",
        "         . it has to scan through element one  by one untill it finds a match.\n",
        "                          example:\n",
        "                                nums = [12,3]\n",
        "                                print(12 in num)  #True\n",
        "                                print(4 in num)    # false\n",
        "            \"in\" with a dictionary\n",
        "              . by default, it checks only the key, not the values.\n",
        "              . uses a hash table lookup -> very fast\n",
        "                           exampple:\n",
        "                               phone_book = {\"Alic\": \"123, \"bob\": \"435\"}\n",
        "                               print(\"alic in phone_book)\n",
        "                                             # True\n",
        "                                                       \n",
        "15. can you modify the elements 0f a tuple? Explain why or why not.\n",
        "\n",
        "    -> In python you caannot modify the elements os a tuple directly because tuples are immutable.\n",
        "         \n",
        "                Explanation:\n",
        "                . A tuple is a collection type in python(like list), but unlike lists, tuples are immutable.\n",
        "                . immutable means that once a tuple is created, its elements cannot be changed, added, or removed.\n",
        "\n",
        "16. What is an nested dictionary, and give an example of its use case?\n",
        "\n",
        "       ->A nested dictionary in python is a dictionary where one or more of value is itself a dictionary. This structure enables you to store and manage hierachical or structured data efficiently.\n",
        "\n",
        "              Example:\n",
        "                    students = {\"alic\":{\"math\":76,\"science\":,98},\"bob\":{\"math':78,\"science\":88}}\n",
        "\n",
        "17. Describe the time complexity of accessing elements in a dictionasry.\n",
        "\n",
        "        -> The item complexity of accessing (also called\"lookup time\") in a dictionary refers to how nuch effort it takes for python to find the value for a specific key.\n",
        "           Easy explanation:\n",
        "             . Very fast:   in python, finding an item in a dictionary is usually very quick, no matter how many items are inside.\n",
        "             .Technically:   this speed is called \"constant time\" which means the time it takes does not increase as the dictionary gets bigger.\n",
        "              .Example:      if there is 1 key or 1 million keys, fimding the value for a key takes about the same time.\n",
        "\n",
        "18. In what situation are lists preferred over dictionaries?\n",
        "\n",
        "    ->Lists are preferred over dictionaries in the following situations:\n",
        "\n",
        "     . Order matters: when you need to keep items in a specific sequence(like a shoppingt list) use a list. List remember the order you add otems; dictionaries did not.Allow d\n",
        "\n",
        "     .Access by position: if you need to access, change, or process items using their position or index,list make thish easy.\n",
        "\n",
        "     .Allow duplicates: list can contain the same value multiple times,whuich is useful if you need repeating items.\n",
        "         Dictionaries require unique keys.\n",
        "\n",
        "\n",
        "19. Why are dctionaries considered unordered, and how does that affect data retrival?\n",
        "\n",
        "    -> Dictionaries are considered\"unordered\" because, traditionaly,they do not keep track of the order in which items were added.That means when we look  at the keys or values in a dictionary,they may appear in any order, not the sequence you entered them.\n",
        "\n",
        "               Affect data retrival:\n",
        "               a. Getting a value by key: you can always get the value for a specific key instantly, because dictionary are built for fast lookup.\n",
        "               b. Getting items in order: if you need to process dictionary items in the order you added them older version of pythom will not help.ypu must use another data structure, or sort the keys yourself.\n",
        "\n",
        "20. explain the diffrence between a list and a dictionary in terms of data retrival.\n",
        "\n",
        "    ->Here;s an easy explanation of the diffrence between a list and a dictionary in terms of data retrival:\n",
        "\n",
        "         List:-\n",
        "\n",
        "              .-> How you get items: by their position(index) in the list.\n",
        "\n",
        "               -> Retrival speed:    very fast and takes the same time regardless of where the itemsw is in the list(if you know the index).\n",
        "\n",
        "               -> When to use: if you care about order and to access items by their order/position.\n",
        "\n",
        "           Dictionaries:-\n",
        "\n",
        "                -> How you get items: by their unique key name, not by their position.\n",
        "                      example;\n",
        "                           my_dict[\"name\"] get value for the key \"name\".\n",
        "\n",
        "                 -> Retrieval speed: Also very fast and is designed for the time doesn't depend on dictionary size.\n",
        "\n",
        "                 -> When to use: if you want to lookup items bby unique lable or identifier, not by position.\n",
        "\n"
      ],
      "metadata": {
        "id": "96Gt-d9EnEUR"
      }
    },
    {
      "cell_type": "markdown",
      "source": [
        "#practical Question"
      ],
      "metadata": {
        "id": "0m5ChfvyQE-3"
      }
    },
    {
      "cell_type": "code",
      "source": [
        "1.write a code to create a string with your name and print it."
      ],
      "metadata": {
        "id": "ccVnfcwtQJeR"
      },
      "execution_count": null,
      "outputs": []
    },
    {
      "cell_type": "code",
      "source": [
        "name = \"supriya\"\n",
        "print(name)\n",
        "type(name)"
      ],
      "metadata": {
        "id": "oIL7cXhwQDbb",
        "colab": {
          "base_uri": "https://localhost:8080/"
        },
        "outputId": "6aaad5d5-e84a-4e46-b1ea-599477b27dfa"
      },
      "execution_count": 9,
      "outputs": [
        {
          "output_type": "stream",
          "name": "stdout",
          "text": [
            "supriya\n"
          ]
        },
        {
          "output_type": "execute_result",
          "data": {
            "text/plain": [
              "str"
            ]
          },
          "metadata": {},
          "execution_count": 9
        }
      ]
    },
    {
      "cell_type": "markdown",
      "source": [
        "2. write a code to find the length of the string\"hello world\""
      ],
      "metadata": {
        "id": "MMWrwGN10n_W"
      }
    },
    {
      "cell_type": "code",
      "source": [
        " str = \"hello world\"\n",
        " len(str)"
      ],
      "metadata": {
        "colab": {
          "base_uri": "https://localhost:8080/"
        },
        "id": "Y5VE_qOM0zLx",
        "outputId": "3f00e3a3-5d07-4b1c-aa0f-6a19ae566d60"
      },
      "execution_count": null,
      "outputs": [
        {
          "output_type": "execute_result",
          "data": {
            "text/plain": [
              "11"
            ]
          },
          "metadata": {},
          "execution_count": 2
        }
      ]
    },
    {
      "cell_type": "markdown",
      "source": [
        "3. write a code to slice the first 3 characters from the string\"python programming\"."
      ],
      "metadata": {
        "id": "JtDojyWU1Jhm"
      }
    },
    {
      "cell_type": "code",
      "source": [
        "text = \"pythn programming \"\n",
        "result = text[:3]\n",
        "print(result)"
      ],
      "metadata": {
        "colab": {
          "base_uri": "https://localhost:8080/"
        },
        "id": "LaV8JNYd1ZtY",
        "outputId": "2bf1aeb1-cee0-4d23-8517-e1c159473ae7"
      },
      "execution_count": null,
      "outputs": [
        {
          "output_type": "stream",
          "name": "stdout",
          "text": [
            "pyt\n"
          ]
        }
      ]
    },
    {
      "cell_type": "markdown",
      "source": [
        "4.write a code to convert the  string\"hello\" to uppercase."
      ],
      "metadata": {
        "id": "wwrsLDXT2pnt"
      }
    },
    {
      "cell_type": "code",
      "source": [
        "a = \"hello\"\n",
        "a.upper()"
      ],
      "metadata": {
        "colab": {
          "base_uri": "https://localhost:8080/",
          "height": 36
        },
        "id": "qRFnevf325XG",
        "outputId": "40469f3d-48fb-406c-f1b1-799ab8a47b26"
      },
      "execution_count": null,
      "outputs": [
        {
          "output_type": "execute_result",
          "data": {
            "text/plain": [
              "'HELLO'"
            ],
            "application/vnd.google.colaboratory.intrinsic+json": {
              "type": "string"
            }
          },
          "metadata": {},
          "execution_count": 8
        }
      ]
    },
    {
      "cell_type": "markdown",
      "source": [
        "5. write a code to replace the word \"apple\" with \"orange\" in the string \"i like apple\"."
      ],
      "metadata": {
        "id": "6PcJhBo75ES6"
      }
    },
    {
      "cell_type": "code",
      "source": [
        "a = \"I like apple\"\n",
        "text=a.replace(\"apple\", \"orange\")\n",
        "print(text)"
      ],
      "metadata": {
        "colab": {
          "base_uri": "https://localhost:8080/"
        },
        "id": "jRvzX-_45Y9X",
        "outputId": "3c8938de-984a-4763-e35a-5a20c5a8a517"
      },
      "execution_count": null,
      "outputs": [
        {
          "output_type": "stream",
          "name": "stdout",
          "text": [
            "I like orange\n"
          ]
        }
      ]
    },
    {
      "cell_type": "markdown",
      "source": [
        "6. write a code to create a list with numbers 1 to 5 and print it."
      ],
      "metadata": {
        "id": "4iXg0rH_64t9"
      }
    },
    {
      "cell_type": "code",
      "source": [
        "l = [1,2,3,4,5]\n",
        "print(l)"
      ],
      "metadata": {
        "colab": {
          "base_uri": "https://localhost:8080/"
        },
        "id": "x0Tdmw7i7Kse",
        "outputId": "83393fbc-55bc-44c3-c313-28b7bfe8e723"
      },
      "execution_count": null,
      "outputs": [
        {
          "output_type": "stream",
          "name": "stdout",
          "text": [
            "[1, 2, 3, 4, 5]\n"
          ]
        }
      ]
    },
    {
      "cell_type": "markdown",
      "source": [
        "7. write a code to append the number 10 to list [1,2,3,4]."
      ],
      "metadata": {
        "id": "ypF_CTFc7TPM"
      }
    },
    {
      "cell_type": "code",
      "source": [
        "l = [1,2,3,4]\n",
        "l.append(10)\n",
        "print(l)"
      ],
      "metadata": {
        "colab": {
          "base_uri": "https://localhost:8080/"
        },
        "id": "dvGMUO7m7lWG",
        "outputId": "9cb98c95-c4b7-42fd-eaa9-61e0c3511b5d"
      },
      "execution_count": null,
      "outputs": [
        {
          "output_type": "stream",
          "name": "stdout",
          "text": [
            "[1, 2, 3, 4, 10]\n"
          ]
        }
      ]
    },
    {
      "cell_type": "markdown",
      "source": [
        "8. write a code to remove the number 3 from the list[1,2,3,4,5]."
      ],
      "metadata": {
        "id": "HduAVI5s71_V"
      }
    },
    {
      "cell_type": "code",
      "source": [
        "l = [1,2,3,4,5]\n",
        "l.remove(3)\n",
        "print(l)"
      ],
      "metadata": {
        "colab": {
          "base_uri": "https://localhost:8080/"
        },
        "id": "yFsiIQrx8IRf",
        "outputId": "c961f241-23bc-4802-c0a7-51e96c41251f"
      },
      "execution_count": null,
      "outputs": [
        {
          "output_type": "stream",
          "name": "stdout",
          "text": [
            "[1, 2, 4, 5]\n"
          ]
        }
      ]
    },
    {
      "cell_type": "markdown",
      "source": [
        "9. write a code to access the second element in the list['a', 'b', 'c', 'd']."
      ],
      "metadata": {
        "id": "DteSr1_J8WhE"
      }
    },
    {
      "cell_type": "code",
      "source": [
        "l = ['a', 'b', 'c']\n",
        "l[1]"
      ],
      "metadata": {
        "colab": {
          "base_uri": "https://localhost:8080/",
          "height": 36
        },
        "id": "213WfYPh8rRu",
        "outputId": "e53a9dc2-64f7-4d9f-9269-5d93486af443"
      },
      "execution_count": null,
      "outputs": [
        {
          "output_type": "execute_result",
          "data": {
            "text/plain": [
              "'b'"
            ],
            "application/vnd.google.colaboratory.intrinsic+json": {
              "type": "string"
            }
          },
          "metadata": {},
          "execution_count": 27
        }
      ]
    },
    {
      "cell_type": "markdown",
      "source": [
        "10. write a code to reverse the list[10, 20, 30, 40, 50]."
      ],
      "metadata": {
        "id": "tixBKnJt9WKf"
      }
    },
    {
      "cell_type": "code",
      "source": [
        "l = [10,20,30,40,50]\n",
        "l.reverse()\n",
        "print(l)"
      ],
      "metadata": {
        "colab": {
          "base_uri": "https://localhost:8080/"
        },
        "id": "26ueHAYX9pkq",
        "outputId": "0a6f5430-e777-44c4-a82e-410b8536947e"
      },
      "execution_count": null,
      "outputs": [
        {
          "output_type": "stream",
          "name": "stdout",
          "text": [
            "[50, 40, 30, 20, 10]\n"
          ]
        }
      ]
    },
    {
      "cell_type": "markdown",
      "source": [
        "11. write a code to create a tuple with the element 100, 200, 300 and print it."
      ],
      "metadata": {
        "id": "GGkrvUC7-bU_"
      }
    },
    {
      "cell_type": "code",
      "source": [
        "t = (100, 200, 300)\n",
        "print(t)"
      ],
      "metadata": {
        "colab": {
          "base_uri": "https://localhost:8080/"
        },
        "id": "HFPE7E40-s1Y",
        "outputId": "6ce73e1e-0e9e-44f1-e1ae-fee239085f3a"
      },
      "execution_count": null,
      "outputs": [
        {
          "output_type": "stream",
          "name": "stdout",
          "text": [
            "(100, 200, 300)\n"
          ]
        }
      ]
    },
    {
      "cell_type": "markdown",
      "source": [
        "12. write a code to access the second-to-last element of the tuple('red', 'green', 'blue', 'yellow')."
      ],
      "metadata": {
        "id": "eKrtbFNt-z8k"
      }
    },
    {
      "cell_type": "code",
      "source": [
        "t = ('red', 'green', 'blue', 'yellow')\n",
        "t[1:4]"
      ],
      "metadata": {
        "colab": {
          "base_uri": "https://localhost:8080/"
        },
        "id": "YmZacrhl_P4O",
        "outputId": "29e6b262-bba7-44a3-c2c1-61ae2f72241e"
      },
      "execution_count": null,
      "outputs": [
        {
          "output_type": "execute_result",
          "data": {
            "text/plain": [
              "('green', 'blue', 'yellow')"
            ]
          },
          "metadata": {},
          "execution_count": 38
        }
      ]
    },
    {
      "cell_type": "markdown",
      "source": [
        "13. write a code to find the minimum number in the tuple(10,20,5,15)."
      ],
      "metadata": {
        "id": "Uuw1dfznADps"
      }
    },
    {
      "cell_type": "code",
      "source": [
        "t = (10, 20, 5, 15)\n",
        "minimum = min(t)\n",
        "print(minimum)\n"
      ],
      "metadata": {
        "colab": {
          "base_uri": "https://localhost:8080/"
        },
        "id": "LE4QssCxAfmg",
        "outputId": "9558c08b-0f16-4702-b7c0-4c5b35e79d91"
      },
      "execution_count": null,
      "outputs": [
        {
          "output_type": "stream",
          "name": "stdout",
          "text": [
            "5\n"
          ]
        }
      ]
    },
    {
      "cell_type": "markdown",
      "source": [
        "14. write a code to find the index of the element \"cat\" in the tuple('dog', 'cat', 'rabbit')."
      ],
      "metadata": {
        "id": "1FySeNhNBuW5"
      }
    },
    {
      "cell_type": "code",
      "source": [
        "a = (\"dog\", \"cat\", \"rabbit\")\n",
        "#find index of cat\n",
        "cat_index = a.index(\"cat\")\n",
        "print(cat_index)"
      ],
      "metadata": {
        "colab": {
          "base_uri": "https://localhost:8080/"
        },
        "id": "xkGowKvHReaw",
        "outputId": "c10792f3-acd8-4d02-96fc-91eada486d0e"
      },
      "execution_count": null,
      "outputs": [
        {
          "output_type": "stream",
          "name": "stdout",
          "text": [
            "1\n"
          ]
        }
      ]
    },
    {
      "cell_type": "markdown",
      "source": [
        "15. write a code to create a tuple containing three differrent fruits and check if \"kiwi\" is in it."
      ],
      "metadata": {
        "id": "wc0026iZScvf"
      }
    },
    {
      "cell_type": "code",
      "source": [
        "f = (\"apple\", \"mango\",\"kiwi\")\n",
        "if \"kiwi\" in f:\n",
        "  print(\"kiwi is in the tuple\")\n",
        "else:\n",
        "  print(\"not find\")"
      ],
      "metadata": {
        "colab": {
          "base_uri": "https://localhost:8080/"
        },
        "id": "mUWGzEiMSyQd",
        "outputId": "7f2ee4f0-b2ca-4d75-b96e-955e10eec3ec"
      },
      "execution_count": null,
      "outputs": [
        {
          "output_type": "stream",
          "name": "stdout",
          "text": [
            "kiwi is in the tuple\n"
          ]
        }
      ]
    },
    {
      "cell_type": "markdown",
      "source": [
        "16. write a code to create a set with the element 'a', 'b','c' and print it."
      ],
      "metadata": {
        "id": "2iTqDA0mURc7"
      }
    },
    {
      "cell_type": "code",
      "source": [
        "s = {'a', 'b', 'c'}\n",
        "print(s)"
      ],
      "metadata": {
        "colab": {
          "base_uri": "https://localhost:8080/"
        },
        "id": "XkEfSrPzUsTi",
        "outputId": "c3e093a4-fe24-419d-eeb6-c13b604cc0d9"
      },
      "execution_count": null,
      "outputs": [
        {
          "output_type": "stream",
          "name": "stdout",
          "text": [
            "{'b', 'c', 'a'}\n"
          ]
        }
      ]
    },
    {
      "cell_type": "markdown",
      "source": [
        "17. write a code to clear all element from the set{1,2,3,4,5}."
      ],
      "metadata": {
        "id": "WQwgrGevVFFP"
      }
    },
    {
      "cell_type": "code",
      "source": [
        "s = {1,2,3,4,5}\n",
        "#clear all element\n",
        "s.clear()\n",
        "print(s)"
      ],
      "metadata": {
        "colab": {
          "base_uri": "https://localhost:8080/"
        },
        "id": "qXRxdok7VWFu",
        "outputId": "ffbce74c-c2dc-4532-cbc8-a63359224515"
      },
      "execution_count": null,
      "outputs": [
        {
          "output_type": "stream",
          "name": "stdout",
          "text": [
            "set()\n"
          ]
        }
      ]
    },
    {
      "cell_type": "markdown",
      "source": [
        "18. write a code to remove the element 4 from the set{1,2,3,4}."
      ],
      "metadata": {
        "id": "Yox8NUtRVrMs"
      }
    },
    {
      "cell_type": "code",
      "source": [
        "s = {1,2,3,4}\n",
        "#to remove 4 fron t6he set\n",
        "s.remove(4)\n",
        "print(s)"
      ],
      "metadata": {
        "colab": {
          "base_uri": "https://localhost:8080/"
        },
        "id": "hbpMWNN0V3pF",
        "outputId": "c712dab1-cc31-4b9e-e675-8dc4a57d3558"
      },
      "execution_count": null,
      "outputs": [
        {
          "output_type": "stream",
          "name": "stdout",
          "text": [
            "{1, 2, 3}\n"
          ]
        }
      ]
    },
    {
      "cell_type": "markdown",
      "source": [
        "19. write a code tob find the union of two sets{1,2,3}and{3,4,5}."
      ],
      "metadata": {
        "id": "utEDGSJAWJ0U"
      }
    },
    {
      "cell_type": "code",
      "source": [
        "s1 = {1,2,3}\n",
        "s2 = {3,4,5}\n",
        "#to find union\n",
        "union_set = s1.union(s2)\n",
        "print(union_set)"
      ],
      "metadata": {
        "colab": {
          "base_uri": "https://localhost:8080/"
        },
        "id": "WnDbaqguWYMb",
        "outputId": "c726bf67-0cfa-4268-a37c-bd7c6167b346"
      },
      "execution_count": null,
      "outputs": [
        {
          "output_type": "stream",
          "name": "stdout",
          "text": [
            "{1, 2, 3, 4, 5}\n"
          ]
        }
      ]
    },
    {
      "cell_type": "markdown",
      "source": [
        "20. write a code to find the intersection of two sets{1,2,3} and [2,3,4}."
      ],
      "metadata": {
        "id": "f9O3w6U2W7gh"
      }
    },
    {
      "cell_type": "code",
      "source": [
        "s1 = {1,2,3}\n",
        "s2 = {2,3,4}\n",
        "#find intersection\n",
        "intersection_set = s1.intersection(s2)\n",
        "print(intersection_set)"
      ],
      "metadata": {
        "colab": {
          "base_uri": "https://localhost:8080/"
        },
        "id": "ZSGiEg3TXIZi",
        "outputId": "6b4959f4-940f-46d6-e61e-7b18fb084679"
      },
      "execution_count": null,
      "outputs": [
        {
          "output_type": "stream",
          "name": "stdout",
          "text": [
            "{2, 3}\n"
          ]
        }
      ]
    },
    {
      "cell_type": "markdown",
      "source": [
        "21.write a code to create a dictionary with the key \"name\", \"age\", and \"city\", and printit."
      ],
      "metadata": {
        "id": "HjzNpmhXXiEs"
      }
    },
    {
      "cell_type": "code",
      "source": [
        "d = {\"name\": \"jack\", \"age\":21, \"ciy\": \"jaipur\"}\n",
        "print(d)"
      ],
      "metadata": {
        "colab": {
          "base_uri": "https://localhost:8080/"
        },
        "id": "cVCvY3AGX85a",
        "outputId": "73de1df2-f171-4b2d-8e6f-fcf4bb6f54a2"
      },
      "execution_count": null,
      "outputs": [
        {
          "output_type": "stream",
          "name": "stdout",
          "text": [
            "{'name': 'jack', 'age': 21, 'ciy': 'jaipur'}\n"
          ]
        }
      ]
    },
    {
      "cell_type": "markdown",
      "source": [
        "22. write a code to add a new key-value pair \"country\":\"USA\"to the dictionay{'name': 'john','age':25}.\n",
        "\n",
        "> Add blockquote\n",
        "\n"
      ],
      "metadata": {
        "id": "fLvIKzU7YnMt"
      }
    },
    {
      "cell_type": "code",
      "source": [
        "d = {\"name\": \"jhon\", \"age\":25}\n",
        "#add a new key_value pair\n",
        "d[\"country\"] = \"USA\"\n",
        "print(d)"
      ],
      "metadata": {
        "colab": {
          "base_uri": "https://localhost:8080/"
        },
        "id": "1G5uZDbznYbc",
        "outputId": "b0c2ab5c-f1fd-4008-d696-d47114805e7d"
      },
      "execution_count": null,
      "outputs": [
        {
          "output_type": "stream",
          "name": "stdout",
          "text": [
            "{'name': 'jhon', 'age': 25, 'country': 'USA'}\n"
          ]
        }
      ]
    },
    {
      "cell_type": "markdown",
      "source": [
        "23.write a code to access the value associated with the key\"name\" in the dictionary{'name':'Alic', 'age':30}."
      ],
      "metadata": {
        "id": "gWRyjvUhoTf3"
      }
    },
    {
      "cell_type": "code",
      "source": [
        "d = {\"name\":\"Alic\",\"age\":30}\n",
        "#access the value of the key \"name\"\n",
        "print(d[\"name\"])"
      ],
      "metadata": {
        "colab": {
          "base_uri": "https://localhost:8080/"
        },
        "id": "6Ftx3-MzouNI",
        "outputId": "c2d7f17c-8d5a-45b7-e70c-2fc264b84ea1"
      },
      "execution_count": null,
      "outputs": [
        {
          "output_type": "stream",
          "name": "stdout",
          "text": [
            "Alic\n"
          ]
        }
      ]
    },
    {
      "cell_type": "markdown",
      "source": [
        "24.write a code to remove the key \"age\" from the dictionary{\"name\":\"bob\",\"age\":22,\"city\":\"New york\"}."
      ],
      "metadata": {
        "id": "39_v7k73pV0B"
      }
    },
    {
      "cell_type": "code",
      "source": [
        "d = {\"name\":\"Bob\",\"age\":22, \"city\":\"New york\"}\n",
        "#to remove the key \"age\"\n",
        "d.pop(\"age\")\n",
        "print(d)"
      ],
      "metadata": {
        "colab": {
          "base_uri": "https://localhost:8080/"
        },
        "id": "LeCXnx1spvoi",
        "outputId": "a5d06bf9-5c3a-4427-d515-ecd42205b614"
      },
      "execution_count": null,
      "outputs": [
        {
          "output_type": "stream",
          "name": "stdout",
          "text": [
            "{'name': 'Bob', 'city': 'New york'}\n"
          ]
        }
      ]
    },
    {
      "cell_type": "markdown",
      "source": [
        "25. write a code to check if the key \"city\" exist in the dictionary{\"name\":Alic\",city\":\"paris\"}."
      ],
      "metadata": {
        "id": "hHixe8cjqlNE"
      }
    },
    {
      "cell_type": "code",
      "source": [
        "d = {\"name\":\"Alic\", \"city\":\"paris\"}\n",
        "#check if the key\"city exist\n",
        "if \"city\" in d:\n",
        "  print(\"city\",\"exist in the dictionary\")\n",
        "else:\n",
        "  print(\"city\", \"does not exist in the dictionary\")\n",
        "\n",
        "\n"
      ],
      "metadata": {
        "colab": {
          "base_uri": "https://localhost:8080/"
        },
        "id": "wjXBHDLiq79S",
        "outputId": "cc65b2c9-0049-458d-aebe-c16a68339f72"
      },
      "execution_count": null,
      "outputs": [
        {
          "output_type": "stream",
          "name": "stdout",
          "text": [
            "city exist in the dictionary\n"
          ]
        }
      ]
    },
    {
      "cell_type": "markdown",
      "source": [
        "26. write a code to creat a list, a tuple and a dictionary, and print them all."
      ],
      "metadata": {
        "id": "75tXvxGnszQf"
      }
    },
    {
      "cell_type": "code",
      "source": [
        "#create a list\n",
        "l = [1,2,3,\"apple\"]\n",
        "#create a tuple\n",
        "t = (1,2,3)\n",
        "#create a dictionary\n",
        "d = {\"name\":\"Alic\",\"age\":22}\n",
        "#print all them\n",
        "print(l)\n",
        "print(t)\n",
        "print(d)"
      ],
      "metadata": {
        "colab": {
          "base_uri": "https://localhost:8080/"
        },
        "id": "whUd5WcJtITE",
        "outputId": "8a998990-884b-439b-96fa-6ecb98b54c2c"
      },
      "execution_count": null,
      "outputs": [
        {
          "output_type": "stream",
          "name": "stdout",
          "text": [
            "[1, 2, 3, 'apple']\n",
            "(1, 2, 3)\n",
            "{'name': 'Alic', 'age': 22}\n"
          ]
        }
      ]
    },
    {
      "cell_type": "markdown",
      "source": [
        "27. write a code to create a list of 5 random numbers between 1 and 100 , sort it in ascending order, and print the result(replaced)"
      ],
      "metadata": {
        "id": "AUfmbVKet6AD"
      }
    },
    {
      "cell_type": "code",
      "source": [
        "number= [3,28,99,46,76]\n",
        "number.sort()\n",
        "print(\"ascending order:\",number)"
      ],
      "metadata": {
        "colab": {
          "base_uri": "https://localhost:8080/"
        },
        "id": "VbddbGb8uOHT",
        "outputId": "0b07ddef-6b38-4e11-debf-20fcb092ff49"
      },
      "execution_count": null,
      "outputs": [
        {
          "output_type": "stream",
          "name": "stdout",
          "text": [
            "ascending order: [3, 28, 46, 76, 99]\n"
          ]
        }
      ]
    },
    {
      "cell_type": "markdown",
      "source": [],
      "metadata": {
        "id": "oq93xolKvdYr"
      }
    },
    {
      "cell_type": "markdown",
      "source": [
        "28.write a code to create a list with strings and print the element at the third index."
      ],
      "metadata": {
        "id": "GrXXfooisyDo"
      }
    },
    {
      "cell_type": "code",
      "source": [
        "l = [1,2,6.6,\"pwskills\", 48]\n",
        "print(\"the elementat index 3:\",l[3])"
      ],
      "metadata": {
        "colab": {
          "base_uri": "https://localhost:8080/"
        },
        "id": "YJt5kzLx_Spk",
        "outputId": "81fb8c6f-0b60-41dd-cd07-5ef875bb55cb"
      },
      "execution_count": 2,
      "outputs": [
        {
          "output_type": "stream",
          "name": "stdout",
          "text": [
            "the elementat index 3: pwskills\n"
          ]
        }
      ]
    },
    {
      "cell_type": "markdown",
      "source": [
        "29.write a code to combine two dictionaries into one and print the result."
      ],
      "metadata": {
        "id": "ACkSoM4KCoLD"
      }
    },
    {
      "cell_type": "code",
      "source": [
        "d1 = {\"name\":\"alic\", \"age\": 23}\n",
        "d2 = {\"city\":\"hazaribag\"}\n",
        "combined_dict = {**d1,**d2}\n",
        "print(combined_dict)"
      ],
      "metadata": {
        "colab": {
          "base_uri": "https://localhost:8080/"
        },
        "id": "oTIVq2CsC9lp",
        "outputId": "0916a5f0-2a6e-4fa0-f427-f2c9864b0339"
      },
      "execution_count": 6,
      "outputs": [
        {
          "output_type": "stream",
          "name": "stdout",
          "text": [
            "{'name': 'alic', 'age': 23, 'city': 'hazaribag'}\n"
          ]
        }
      ]
    },
    {
      "cell_type": "markdown",
      "source": [
        "30. write a code to convert a list of string into a set."
      ],
      "metadata": {
        "id": "V5kumMTFEdf6"
      }
    },
    {
      "cell_type": "code",
      "source": [
        "my_list = [\"ball\",\"cat\"]\n",
        "my_set = set(my_list)\n",
        "print(my_set)"
      ],
      "metadata": {
        "colab": {
          "base_uri": "https://localhost:8080/"
        },
        "id": "QQZXPA51EtK2",
        "outputId": "38fb8b08-1014-44cb-8669-75fe36ddf5ea"
      },
      "execution_count": 7,
      "outputs": [
        {
          "output_type": "stream",
          "name": "stdout",
          "text": [
            "{'cat', 'ball'}\n"
          ]
        }
      ]
    },
    {
      "cell_type": "markdown",
      "source": [],
      "metadata": {
        "id": "WuKpCtzr1EvS"
      }
    }
  ]
}